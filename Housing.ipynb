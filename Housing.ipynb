{
  "nbformat": 4,
  "nbformat_minor": 0,
  "metadata": {
    "colab": {
      "name": "Housing.ipynb",
      "provenance": [],
      "toc_visible": true,
      "collapsed_sections": [],
      "authorship_tag": "ABX9TyM4rv9qoI3JgbZ3Y3D4Erzr",
      "include_colab_link": true
    },
    "kernelspec": {
      "name": "python3",
      "display_name": "Python 3"
    },
    "language_info": {
      "name": "python"
    }
  },
  "cells": [
    {
      "cell_type": "markdown",
      "metadata": {
        "id": "view-in-github",
        "colab_type": "text"
      },
      "source": [
        "<a href=\"https://colab.research.google.com/github/GautierBlandin/real-estate-ml/blob/main/Housing.ipynb\" target=\"_parent\"><img src=\"https://colab.research.google.com/assets/colab-badge.svg\" alt=\"Open In Colab\"/></a>"
      ]
    },
    {
      "cell_type": "markdown",
      "source": [
        "# Init\n",
        "\n"
      ],
      "metadata": {
        "id": "CtKTjUYAnqjD"
      }
    },
    {
      "cell_type": "code",
      "execution_count": 1,
      "metadata": {
        "id": "LIOrZdT8mJg8"
      },
      "outputs": [],
      "source": [
        "import os\n",
        "import tarfile\n",
        "import urllib.request\n",
        "import pandas as pd\n",
        "import numpy as np\n",
        "import matplotlib.pyplot as plt\n",
        "\n",
        "DOWNLOAD_ROOT = \"https://raw.githubusercontent.com/ageron/handson-ml2/master/\"\n",
        "HOUSING_PATH = os.path.join(\"datasets\", \"housing\")\n",
        "HOUSING_URL = DOWNLOAD_ROOT + \"datasets/housing/housing.tgz\"\n",
        "\n",
        "def fetch_housing_data(housing_url=HOUSING_URL, housing_path=HOUSING_PATH):\n",
        "    os.makedirs(housing_path, exist_ok=True)\n",
        "    tgz_path = os.path.join(housing_path, \"housing.tgz\")\n",
        "    urllib.request.urlretrieve(housing_url, tgz_path)\n",
        "    housing_tgz = tarfile.open(tgz_path)\n",
        "    housing_tgz.extractall(path=housing_path)\n",
        "    housing_tgz.close()\n",
        "\n",
        "def load_housing_data(housing_path=HOUSING_PATH):\n",
        "    csv_path = os.path.join(housing_path, \"housing.csv\")\n",
        "    return pd.read_csv(csv_path)\n",
        "\n"
      ]
    },
    {
      "cell_type": "markdown",
      "source": [
        "# Training / Test set initilization"
      ],
      "metadata": {
        "id": "1jVyiE_YoQZV"
      }
    },
    {
      "cell_type": "code",
      "source": [
        "from sklearn.model_selection import train_test_split, StratifiedShuffleSplit\n",
        "\n",
        "fetch_housing_data()\n",
        "housing = load_housing_data()\n",
        "\n",
        "train_set, test_set = train_test_split(housing, test_size = 0.2, random_state = 42)\n",
        "\n",
        "housing[\"income_cat\"] = pd.cut(housing[\"median_income\"],\n",
        "                               bins=[0., 1.5, 3.0, 4.5, 6., np.inf],\n",
        "                               labels = [1, 2, 3, 4, 5])\n",
        "\n",
        "split = StratifiedShuffleSplit(n_splits = 1, test_size = 0.2, random_state = 42)\n",
        "for train_index, test_index in split.split(housing,housing[\"income_cat\"]):\n",
        "  strat_train_set = housing.loc[train_index]\n",
        "  strat_test_set = housing.loc[test_index]\n",
        "\n",
        "for set_ in (strat_train_set, strat_test_set):\n",
        "  set_.drop(\"income_cat\", axis = 1, inplace = True)\n",
        "\n",
        "\n",
        "housing = strat_train_set.drop(\"median_house_value\", axis = 1)\n",
        "housing_labels = strat_train_set[\"median_house_value\"].copy()"
      ],
      "metadata": {
        "id": "HxMIfRmOoYar"
      },
      "execution_count": 2,
      "outputs": []
    },
    {
      "cell_type": "markdown",
      "source": [
        "# Dataset Visualization"
      ],
      "metadata": {
        "id": "ld0gwLqmxDO_"
      }
    },
    {
      "cell_type": "code",
      "source": [
        "housing.describe()"
      ],
      "metadata": {
        "id": "mGxMTIZBpRXD"
      },
      "execution_count": null,
      "outputs": []
    },
    {
      "cell_type": "code",
      "source": [
        "%matplotlib inline\n",
        "import matplotlib.pyplot as plt\n",
        "housing.hist(bins = 50, figsize = (20, 15))\n",
        "plt.show()"
      ],
      "metadata": {
        "id": "Dgp4LSqupaw1"
      },
      "execution_count": null,
      "outputs": []
    },
    {
      "cell_type": "code",
      "source": [
        "housing.plot(kind=\"scatter\", x=\"longitude\", y=\"latitude\", alpha= 0.4, figsize=(15, 10),\n",
        "             s=housing[\"population\"]/50, label=\"population\", c=\"median_house_value\",\n",
        "             cmap=plt.get_cmap(\"jet\"), colorbar=True)"
      ],
      "metadata": {
        "id": "7Pbs9njKm8K0"
      },
      "execution_count": null,
      "outputs": []
    },
    {
      "cell_type": "code",
      "source": [
        "corr_matrix = housing.corr()"
      ],
      "metadata": {
        "id": "SUVVwc2RJ4Sw"
      },
      "execution_count": null,
      "outputs": []
    },
    {
      "cell_type": "code",
      "source": [
        "corr_matrix[\"median_house_value\"].sort_values(ascending=False)"
      ],
      "metadata": {
        "id": "uQko05L-h0RV"
      },
      "execution_count": null,
      "outputs": []
    },
    {
      "cell_type": "code",
      "source": [
        "from pandas.plotting import scatter_matrix\n",
        "attributes = [\"median_house_value\", \"median_income\", \"total_rooms\", \"housing_median_age\"]\n",
        "scatter_matrix(housing[attributes], figsize=(15, 10))"
      ],
      "metadata": {
        "id": "0Va5JZdPizve"
      },
      "execution_count": null,
      "outputs": []
    },
    {
      "cell_type": "markdown",
      "source": [
        "# Training Set Preparation"
      ],
      "metadata": {
        "id": "3ZxvrMNlwqBm"
      }
    },
    {
      "cell_type": "code",
      "source": [
        "housing_num = housing.drop(\"ocean_proximity\", axis=1)\n",
        "housing_cat = housing[[\"ocean_proximity\"]]\n",
        "\n",
        "num_attribs = list(housing_num)\n",
        "cat_attribs = list(housing_cat)"
      ],
      "metadata": {
        "id": "4XQNFy6FEWVo"
      },
      "execution_count": 3,
      "outputs": []
    },
    {
      "cell_type": "code",
      "source": [
        "# Custom sklearn transformer for creation of new relevant features\n",
        "from sklearn.base import BaseEstimator, TransformerMixin\n",
        "\n",
        "total_rooms_ix, total_bedrooms_ix, population_ix, households_ix = 3, 4, 5, 6\n",
        "\n",
        "class CombinedAttributesAdder(BaseEstimator, TransformerMixin):\n",
        "  def __init__(self, add_bedrooms_per_room: bool = True):\n",
        "    self.add_bedrooms_per_room = add_bedrooms_per_room\n",
        "  def fit(self, X, y = None):\n",
        "    return self  # Nothing else to do\n",
        "  def transform(self, X, y = None):\n",
        "    rooms_per_household = X[:, total_rooms_ix] / X[:, households_ix]\n",
        "    population_per_household = X[:, population_ix] / X[:, households_ix]\n",
        "    if self.add_bedrooms_per_room:\n",
        "      bedrooms_per_room = X[:, total_bedrooms_ix] / X[:, total_rooms_ix]\n",
        "      return np.c_[X, rooms_per_household, population_per_household,\n",
        "                   bedrooms_per_room]\n",
        "    else:\n",
        "      return np.c_[X, rooms_per_household, population_per_household]"
      ],
      "metadata": {
        "id": "nUYFS6VP7ynk"
      },
      "execution_count": 4,
      "outputs": []
    },
    {
      "cell_type": "code",
      "source": [
        "# Numerical pipeline\n",
        "from sklearn.pipeline import Pipeline\n",
        "from sklearn.preprocessing import StandardScaler\n",
        "from sklearn.impute import SimpleImputer\n",
        "\n",
        "# Pipeline steps : \n",
        "# Fill n/a values will median value of the column\n",
        "# Create additional relevant features by combining existing ones\n",
        "# Standardize all columns (y = [X - E(X)]/sigma)\n",
        "num_pipeline = Pipeline([\n",
        "                     ('imputer', SimpleImputer(strategy='median')),\n",
        "                     ('attribs_adder', CombinedAttributesAdder()),\n",
        "                     ('std_scaler', StandardScaler())\n",
        "])"
      ],
      "metadata": {
        "id": "yxzOS4Kk7lVN"
      },
      "execution_count": 5,
      "outputs": []
    },
    {
      "cell_type": "code",
      "source": [
        "from sklearn.compose import ColumnTransformer\n",
        "from sklearn.preprocessing import OneHotEncoder\n",
        "\n",
        "full_pipeline = ColumnTransformer([\n",
        "                                   (\"num\", num_pipeline, num_attribs),\n",
        "                                   (\"cat\", OneHotEncoder(), cat_attribs),\n",
        "])\n",
        "\n",
        "housing_prepared = full_pipeline.fit_transform(housing)"
      ],
      "metadata": {
        "id": "OZ9Klj67FSfA"
      },
      "execution_count": 6,
      "outputs": []
    },
    {
      "cell_type": "markdown",
      "source": [
        "# Training and evaluation on the training set"
      ],
      "metadata": {
        "id": "O5bos1tuvVzc"
      }
    },
    {
      "cell_type": "code",
      "source": [
        "from sklearn.linear_model import LinearRegression\n",
        "\n",
        "lin_reg = LinearRegression()\n",
        "lin_reg.fit(housing_prepared, housing_labels)"
      ],
      "metadata": {
        "colab": {
          "base_uri": "https://localhost:8080/"
        },
        "id": "Xr8cXyjYvaa6",
        "outputId": "b0169afc-2c42-4790-cb8a-5d6183506fe8"
      },
      "execution_count": 9,
      "outputs": [
        {
          "output_type": "execute_result",
          "data": {
            "text/plain": [
              "LinearRegression()"
            ]
          },
          "metadata": {},
          "execution_count": 9
        }
      ]
    },
    {
      "cell_type": "code",
      "source": [
        "from sklearn.tree import DecisionTreeRegressor\n",
        "\n",
        "tree_reg = DecisionTreeRegressor()\n",
        "tree_reg.fit(housing_prepared, housing_labels)"
      ],
      "metadata": {
        "id": "ussuWy7HpVFM"
      },
      "execution_count": null,
      "outputs": []
    },
    {
      "cell_type": "code",
      "source": [
        "from sklearn.ensemble import RandomForestRegressor\n",
        "\n",
        "forest_reg = RandomForestRegressor()\n",
        "forest_reg.fit(housing_prepared, housing_labels)"
      ],
      "metadata": {
        "colab": {
          "base_uri": "https://localhost:8080/"
        },
        "id": "uz9hu6AFtEQB",
        "outputId": "85e1d888-3e6f-40ca-bcfe-a6d7d6b8bbd1"
      },
      "execution_count": 19,
      "outputs": [
        {
          "output_type": "execute_result",
          "data": {
            "text/plain": [
              "RandomForestRegressor()"
            ]
          },
          "metadata": {},
          "execution_count": 19
        }
      ]
    },
    {
      "cell_type": "code",
      "source": [
        "from sklearn.metrics import mean_squared_error\n",
        "\n",
        "housing_predictions = lin_reg.predict(housing_prepared)\n",
        "lin_mse = mean_squared_error(housing_labels, housing_predictions)\n",
        "lin_rmse = np.sqrt(lin_mse)\n",
        "print(lin_rmse)\n",
        "\n",
        "housing_tree_predictions = tree_reg.predict(housing_prepared)\n",
        "tree_mse = mean_squared_error(housing_labels, housing_tree_predictions)\n",
        "tree_rmse = np.sqrt(tree_mse)\n",
        "print(tree_rmse)\n",
        "\n",
        "forest_predictions = forest_reg.predict(housing_prepared)\n",
        "forest_mse = mean_squared_error(housing_labels, forest_predictions)\n",
        "forest_rmse = np.sqrt(forest_mse)\n",
        "print(forest_rmse)"
      ],
      "metadata": {
        "colab": {
          "base_uri": "https://localhost:8080/"
        },
        "id": "bxPEud39wnzr",
        "outputId": "a74fa0e7-6f0a-409c-cb36-cad0a438bf81"
      },
      "execution_count": 21,
      "outputs": [
        {
          "output_type": "stream",
          "name": "stdout",
          "text": [
            "68627.87390018745\n",
            "0.0\n",
            "18705.705646578674\n"
          ]
        }
      ]
    },
    {
      "cell_type": "code",
      "source": [
        "from sklearn.model_selection import cross_val_score\n",
        "scores = cross_val_score(forest_reg, housing_prepared, housing_labels,\n",
        "                         scoring = \"neg_mean_squared_error\", cv = 10)\n",
        "tree_rmse_scores = np.sqrt(-scores)\n",
        "\n",
        "print(type(scores))\n",
        "\n",
        "def display_scores(scores):\n",
        "  print(f\"Scores: {scores}\")\n",
        "  print(f\"Mean: {scores.mean()}\")\n",
        "  print(f\"Standard Deviation: {scores.std()}\")\n",
        "\n",
        "display_scores(tree_rmse_scores)"
      ],
      "metadata": {
        "colab": {
          "base_uri": "https://localhost:8080/"
        },
        "id": "QwFrvoz4qKlQ",
        "outputId": "9601db7c-d45d-4e13-a8d5-1ccff5660e8d"
      },
      "execution_count": 22,
      "outputs": [
        {
          "output_type": "stream",
          "name": "stdout",
          "text": [
            "<class 'numpy.ndarray'>\n",
            "Scores: [51518.71879196 49130.68577044 46973.53789877 51998.15434688\n",
            " 47730.03725242 51815.291573   52248.39966007 49733.88901207\n",
            " 48771.37473358 53835.68912047]\n",
            "Mean: 50375.57781596664\n",
            "Standard Deviation: 2111.8684196295767\n"
          ]
        }
      ]
    }
  ]
}