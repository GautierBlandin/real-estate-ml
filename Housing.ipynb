{
  "nbformat": 4,
  "nbformat_minor": 0,
  "metadata": {
    "colab": {
      "name": "Housing.ipynb",
      "provenance": [],
      "toc_visible": true,
      "collapsed_sections": [],
      "authorship_tag": "ABX9TyOxgMLQ91UT9iPWccvsmRd/",
      "include_colab_link": true
    },
    "kernelspec": {
      "name": "python3",
      "display_name": "Python 3"
    },
    "language_info": {
      "name": "python"
    }
  },
  "cells": [
    {
      "cell_type": "markdown",
      "metadata": {
        "id": "view-in-github",
        "colab_type": "text"
      },
      "source": [
        "<a href=\"https://colab.research.google.com/github/GautierBlandin/real-estate-ml/blob/main/Housing.ipynb\" target=\"_parent\"><img src=\"https://colab.research.google.com/assets/colab-badge.svg\" alt=\"Open In Colab\"/></a>"
      ]
    },
    {
      "cell_type": "markdown",
      "source": [
        "# Init\n",
        "\n"
      ],
      "metadata": {
        "id": "CtKTjUYAnqjD"
      }
    },
    {
      "cell_type": "code",
      "execution_count": null,
      "metadata": {
        "id": "LIOrZdT8mJg8"
      },
      "outputs": [],
      "source": [
        "import os\n",
        "import tarfile\n",
        "import urllib.request\n",
        "import pandas as pd\n",
        "import numpy as np\n",
        "import matplotlib.pyplot as plt\n",
        "\n",
        "DOWNLOAD_ROOT = \"https://raw.githubusercontent.com/ageron/handson-ml2/master/\"\n",
        "HOUSING_PATH = os.path.join(\"datasets\", \"housing\")\n",
        "HOUSING_URL = DOWNLOAD_ROOT + \"datasets/housing/housing.tgz\"\n",
        "\n",
        "def fetch_housing_data(housing_url=HOUSING_URL, housing_path=HOUSING_PATH):\n",
        "    os.makedirs(housing_path, exist_ok=True)\n",
        "    tgz_path = os.path.join(housing_path, \"housing.tgz\")\n",
        "    urllib.request.urlretrieve(housing_url, tgz_path)\n",
        "    housing_tgz = tarfile.open(tgz_path)\n",
        "    housing_tgz.extractall(path=housing_path)\n",
        "    housing_tgz.close()\n",
        "\n",
        "def load_housing_data(housing_path=HOUSING_PATH):\n",
        "    csv_path = os.path.join(housing_path, \"housing.csv\")\n",
        "    return pd.read_csv(csv_path)\n",
        "\n"
      ]
    },
    {
      "cell_type": "markdown",
      "source": [
        "# Training / Test set initilization"
      ],
      "metadata": {
        "id": "1jVyiE_YoQZV"
      }
    },
    {
      "cell_type": "code",
      "source": [
        "from sklearn.model_selection import train_test_split, StratifiedShuffleSplit\n",
        "\n",
        "fetch_housing_data()\n",
        "housing = load_housing_data()\n",
        "\n",
        "train_set, test_set = train_test_split(housing, test_size = 0.2, random_state = 42)\n",
        "\n",
        "housing[\"income_cat\"] = pd.cut(housing[\"median_income\"],\n",
        "                               bins=[0., 1.5, 3.0, 4.5, 6., np.inf],\n",
        "                               labels = [1, 2, 3, 4, 5])\n",
        "\n",
        "split = StratifiedShuffleSplit(n_splits = 1, test_size = 0.2, random_state = 42)\n",
        "for train_index, test_index in split.split(housing,housing[\"income_cat\"]):\n",
        "  strat_train_set = housing.loc[train_index]\n",
        "  strat_test_set = housing.loc[test_index]\n",
        "\n",
        "for set_ in (strat_train_set, strat_test_set):\n",
        "  set_.drop(\"income_cat\", axis = 1, inplace = True)"
      ],
      "metadata": {
        "id": "HxMIfRmOoYar"
      },
      "execution_count": null,
      "outputs": []
    },
    {
      "cell_type": "markdown",
      "source": [
        "# Training Set Preparation"
      ],
      "metadata": {
        "id": "3ZxvrMNlwqBm"
      }
    },
    {
      "cell_type": "code",
      "source": [
        "housing = strat_train_set.drop(\"median_house_value\", axis=1)\n",
        "housing_labels = strat_train_set[\"median_house_value\"].copy()\n",
        "\n",
        "# Fill the missing values with the median\n",
        "total_bedrooms_median = housing[\"total_bedrooms\"].median()\n",
        "housing[\"total_bedrooms\"].fillna(total_bedrooms_median, inplace = True)\n",
        "\n",
        "# Compute additional relevant features\n",
        "housing[\"rooms_per_household\"] = housing[\"total_rooms\"]/housing[\"households\"]\n",
        "housing[\"bedrooms_per_room\"] = housing[\"total_bedrooms\"]/housing[\"total_rooms\"]\n",
        "housing[\"population_per_household\"] = housing[\"population\"]/housing[\"households\"]"
      ],
      "metadata": {
        "id": "rFocECO0xLTS"
      },
      "execution_count": null,
      "outputs": []
    },
    {
      "cell_type": "code",
      "source": [
        "from sklearn.impute import SimpleImputer\n",
        "\n",
        "imputer = SimpleImputer(strategy = \"median\")\n",
        "housing_num = housing.drop(\"ocean_proximity\", axis = 1)\n",
        "imputer.fit(housing_num)\n",
        "imputer.transform(housing_num)"
      ],
      "metadata": {
        "id": "vcEq3PWK1D_-"
      },
      "execution_count": null,
      "outputs": []
    },
    {
      "cell_type": "code",
      "source": [
        "from sklearn.preprocessing import OrdinalEncoder\n",
        "\n",
        "housing_cat=housing[[\"ocean_proximity\"]]\n",
        "ordinal_encoder = OrdinalEncoder()\n",
        "housing_cat_encoded = ordinal_encoder.fit_transform(housing_cat)\n",
        "housing_cat_encoded[:20]"
      ],
      "metadata": {
        "colab": {
          "base_uri": "https://localhost:8080/"
        },
        "id": "nvVZdRFxLjr3",
        "outputId": "3db44172-79a8-455e-d576-4927625c74b0"
      },
      "execution_count": null,
      "outputs": [
        {
          "output_type": "execute_result",
          "data": {
            "text/plain": [
              "array([[1.],\n",
              "       [4.],\n",
              "       [1.],\n",
              "       [4.],\n",
              "       [0.],\n",
              "       [3.],\n",
              "       [0.],\n",
              "       [0.],\n",
              "       [0.],\n",
              "       [0.],\n",
              "       [1.],\n",
              "       [0.],\n",
              "       [1.],\n",
              "       [1.],\n",
              "       [4.],\n",
              "       [0.],\n",
              "       [0.],\n",
              "       [0.],\n",
              "       [3.],\n",
              "       [0.]])"
            ]
          },
          "metadata": {},
          "execution_count": 69
        }
      ]
    },
    {
      "cell_type": "markdown",
      "source": [
        "# Dataset Visualization"
      ],
      "metadata": {
        "id": "ld0gwLqmxDO_"
      }
    },
    {
      "cell_type": "code",
      "source": [
        "housing.describe()"
      ],
      "metadata": {
        "id": "mGxMTIZBpRXD"
      },
      "execution_count": null,
      "outputs": []
    },
    {
      "cell_type": "code",
      "source": [
        "%matplotlib inline\n",
        "import matplotlib.pyplot as plt\n",
        "housing.hist(bins = 50, figsize = (20, 15))\n",
        "plt.show()"
      ],
      "metadata": {
        "id": "Dgp4LSqupaw1"
      },
      "execution_count": null,
      "outputs": []
    },
    {
      "cell_type": "code",
      "source": [
        "housing.plot(kind=\"scatter\", x=\"longitude\", y=\"latitude\", alpha= 0.4, figsize=(15, 10),\n",
        "             s=housing[\"population\"]/50, label=\"population\", c=\"median_house_value\",\n",
        "             cmap=plt.get_cmap(\"jet\"), colorbar=True)"
      ],
      "metadata": {
        "id": "7Pbs9njKm8K0"
      },
      "execution_count": null,
      "outputs": []
    },
    {
      "cell_type": "code",
      "source": [
        "corr_matrix = housing.corr()"
      ],
      "metadata": {
        "id": "SUVVwc2RJ4Sw"
      },
      "execution_count": null,
      "outputs": []
    },
    {
      "cell_type": "code",
      "source": [
        "corr_matrix[\"median_house_value\"].sort_values(ascending=False)"
      ],
      "metadata": {
        "id": "uQko05L-h0RV"
      },
      "execution_count": null,
      "outputs": []
    },
    {
      "cell_type": "code",
      "source": [
        "from pandas.plotting import scatter_matrix\n",
        "attributes = [\"median_house_value\", \"median_income\", \"total_rooms\", \"housing_median_age\"]\n",
        "scatter_matrix(housing[attributes], figsize=(15, 10))"
      ],
      "metadata": {
        "id": "0Va5JZdPizve"
      },
      "execution_count": null,
      "outputs": []
    }
  ]
}